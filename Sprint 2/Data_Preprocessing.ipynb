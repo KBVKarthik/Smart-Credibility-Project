{
  "nbformat": 4,
  "nbformat_minor": 0,
  "metadata": {
    "colab": {
      "provenance": []
    },
    "kernelspec": {
      "name": "python3",
      "display_name": "Python 3"
    },
    "language_info": {
      "name": "python"
    }
  },
  "cells": [
    {
      "cell_type": "code",
      "source": [
        "import numpy as np \n",
        "import pandas as pd\n",
        "\n",
        "import warnings\n",
        "warnings.filterwarnings('ignore')"
      ],
      "metadata": {
        "id": "Qmxc2_bmup1m"
      },
      "execution_count": 32,
      "outputs": []
    },
    {
      "cell_type": "code",
      "source": [
        "df=pd.read_csv(\"./Loan_dataset.csv\")"
      ],
      "metadata": {
        "id": "4oOJUGCSurSa"
      },
      "execution_count": 33,
      "outputs": []
    },
    {
      "cell_type": "code",
      "source": [
        "df"
      ],
      "metadata": {
        "colab": {
          "base_uri": "https://localhost:8080/",
          "height": 424
        },
        "id": "vt3382AUuv7G",
        "outputId": "c1a86b9d-0717-47f8-d3b2-cff9a3fbdc51"
      },
      "execution_count": 34,
      "outputs": [
        {
          "output_type": "execute_result",
          "data": {
            "text/plain": [
              "      Loan_ID  Gender Married Dependents     Education Self_Employed  \\\n",
              "0    LP001002    Male      No          0      Graduate            No   \n",
              "1    LP001003    Male     Yes          1      Graduate            No   \n",
              "2    LP001005    Male     Yes          0      Graduate           Yes   \n",
              "3    LP001006    Male     Yes          0  Not Graduate            No   \n",
              "4    LP001008    Male      No          0      Graduate            No   \n",
              "..        ...     ...     ...        ...           ...           ...   \n",
              "609  LP002978  Female      No          0      Graduate            No   \n",
              "610  LP002979    Male     Yes         3+      Graduate            No   \n",
              "611  LP002983    Male     Yes          1      Graduate            No   \n",
              "612  LP002984    Male     Yes          2      Graduate            No   \n",
              "613  LP002990  Female      No          0      Graduate           Yes   \n",
              "\n",
              "     ApplicantIncome  CoapplicantIncome  LoanAmount  Loan_Amount_Term  \\\n",
              "0               5849                0.0         NaN             360.0   \n",
              "1               4583             1508.0       128.0             360.0   \n",
              "2               3000                0.0        66.0             360.0   \n",
              "3               2583             2358.0       120.0             360.0   \n",
              "4               6000                0.0       141.0             360.0   \n",
              "..               ...                ...         ...               ...   \n",
              "609             2900                0.0        71.0             360.0   \n",
              "610             4106                0.0        40.0             180.0   \n",
              "611             8072              240.0       253.0             360.0   \n",
              "612             7583                0.0       187.0             360.0   \n",
              "613             4583                0.0       133.0             360.0   \n",
              "\n",
              "     Credit_History Property_Area Loan_Status  \n",
              "0               1.0         Urban           Y  \n",
              "1               1.0         Rural           N  \n",
              "2               1.0         Urban           Y  \n",
              "3               1.0         Urban           Y  \n",
              "4               1.0         Urban           Y  \n",
              "..              ...           ...         ...  \n",
              "609             1.0         Rural           Y  \n",
              "610             1.0         Rural           Y  \n",
              "611             1.0         Urban           Y  \n",
              "612             1.0         Urban           Y  \n",
              "613             0.0     Semiurban           N  \n",
              "\n",
              "[614 rows x 13 columns]"
            ],
            "text/html": [
              "\n",
              "  <div id=\"df-ac7502f6-5ec5-49c2-b775-338761681b78\">\n",
              "    <div class=\"colab-df-container\">\n",
              "      <div>\n",
              "<style scoped>\n",
              "    .dataframe tbody tr th:only-of-type {\n",
              "        vertical-align: middle;\n",
              "    }\n",
              "\n",
              "    .dataframe tbody tr th {\n",
              "        vertical-align: top;\n",
              "    }\n",
              "\n",
              "    .dataframe thead th {\n",
              "        text-align: right;\n",
              "    }\n",
              "</style>\n",
              "<table border=\"1\" class=\"dataframe\">\n",
              "  <thead>\n",
              "    <tr style=\"text-align: right;\">\n",
              "      <th></th>\n",
              "      <th>Loan_ID</th>\n",
              "      <th>Gender</th>\n",
              "      <th>Married</th>\n",
              "      <th>Dependents</th>\n",
              "      <th>Education</th>\n",
              "      <th>Self_Employed</th>\n",
              "      <th>ApplicantIncome</th>\n",
              "      <th>CoapplicantIncome</th>\n",
              "      <th>LoanAmount</th>\n",
              "      <th>Loan_Amount_Term</th>\n",
              "      <th>Credit_History</th>\n",
              "      <th>Property_Area</th>\n",
              "      <th>Loan_Status</th>\n",
              "    </tr>\n",
              "  </thead>\n",
              "  <tbody>\n",
              "    <tr>\n",
              "      <th>0</th>\n",
              "      <td>LP001002</td>\n",
              "      <td>Male</td>\n",
              "      <td>No</td>\n",
              "      <td>0</td>\n",
              "      <td>Graduate</td>\n",
              "      <td>No</td>\n",
              "      <td>5849</td>\n",
              "      <td>0.0</td>\n",
              "      <td>NaN</td>\n",
              "      <td>360.0</td>\n",
              "      <td>1.0</td>\n",
              "      <td>Urban</td>\n",
              "      <td>Y</td>\n",
              "    </tr>\n",
              "    <tr>\n",
              "      <th>1</th>\n",
              "      <td>LP001003</td>\n",
              "      <td>Male</td>\n",
              "      <td>Yes</td>\n",
              "      <td>1</td>\n",
              "      <td>Graduate</td>\n",
              "      <td>No</td>\n",
              "      <td>4583</td>\n",
              "      <td>1508.0</td>\n",
              "      <td>128.0</td>\n",
              "      <td>360.0</td>\n",
              "      <td>1.0</td>\n",
              "      <td>Rural</td>\n",
              "      <td>N</td>\n",
              "    </tr>\n",
              "    <tr>\n",
              "      <th>2</th>\n",
              "      <td>LP001005</td>\n",
              "      <td>Male</td>\n",
              "      <td>Yes</td>\n",
              "      <td>0</td>\n",
              "      <td>Graduate</td>\n",
              "      <td>Yes</td>\n",
              "      <td>3000</td>\n",
              "      <td>0.0</td>\n",
              "      <td>66.0</td>\n",
              "      <td>360.0</td>\n",
              "      <td>1.0</td>\n",
              "      <td>Urban</td>\n",
              "      <td>Y</td>\n",
              "    </tr>\n",
              "    <tr>\n",
              "      <th>3</th>\n",
              "      <td>LP001006</td>\n",
              "      <td>Male</td>\n",
              "      <td>Yes</td>\n",
              "      <td>0</td>\n",
              "      <td>Not Graduate</td>\n",
              "      <td>No</td>\n",
              "      <td>2583</td>\n",
              "      <td>2358.0</td>\n",
              "      <td>120.0</td>\n",
              "      <td>360.0</td>\n",
              "      <td>1.0</td>\n",
              "      <td>Urban</td>\n",
              "      <td>Y</td>\n",
              "    </tr>\n",
              "    <tr>\n",
              "      <th>4</th>\n",
              "      <td>LP001008</td>\n",
              "      <td>Male</td>\n",
              "      <td>No</td>\n",
              "      <td>0</td>\n",
              "      <td>Graduate</td>\n",
              "      <td>No</td>\n",
              "      <td>6000</td>\n",
              "      <td>0.0</td>\n",
              "      <td>141.0</td>\n",
              "      <td>360.0</td>\n",
              "      <td>1.0</td>\n",
              "      <td>Urban</td>\n",
              "      <td>Y</td>\n",
              "    </tr>\n",
              "    <tr>\n",
              "      <th>...</th>\n",
              "      <td>...</td>\n",
              "      <td>...</td>\n",
              "      <td>...</td>\n",
              "      <td>...</td>\n",
              "      <td>...</td>\n",
              "      <td>...</td>\n",
              "      <td>...</td>\n",
              "      <td>...</td>\n",
              "      <td>...</td>\n",
              "      <td>...</td>\n",
              "      <td>...</td>\n",
              "      <td>...</td>\n",
              "      <td>...</td>\n",
              "    </tr>\n",
              "    <tr>\n",
              "      <th>609</th>\n",
              "      <td>LP002978</td>\n",
              "      <td>Female</td>\n",
              "      <td>No</td>\n",
              "      <td>0</td>\n",
              "      <td>Graduate</td>\n",
              "      <td>No</td>\n",
              "      <td>2900</td>\n",
              "      <td>0.0</td>\n",
              "      <td>71.0</td>\n",
              "      <td>360.0</td>\n",
              "      <td>1.0</td>\n",
              "      <td>Rural</td>\n",
              "      <td>Y</td>\n",
              "    </tr>\n",
              "    <tr>\n",
              "      <th>610</th>\n",
              "      <td>LP002979</td>\n",
              "      <td>Male</td>\n",
              "      <td>Yes</td>\n",
              "      <td>3+</td>\n",
              "      <td>Graduate</td>\n",
              "      <td>No</td>\n",
              "      <td>4106</td>\n",
              "      <td>0.0</td>\n",
              "      <td>40.0</td>\n",
              "      <td>180.0</td>\n",
              "      <td>1.0</td>\n",
              "      <td>Rural</td>\n",
              "      <td>Y</td>\n",
              "    </tr>\n",
              "    <tr>\n",
              "      <th>611</th>\n",
              "      <td>LP002983</td>\n",
              "      <td>Male</td>\n",
              "      <td>Yes</td>\n",
              "      <td>1</td>\n",
              "      <td>Graduate</td>\n",
              "      <td>No</td>\n",
              "      <td>8072</td>\n",
              "      <td>240.0</td>\n",
              "      <td>253.0</td>\n",
              "      <td>360.0</td>\n",
              "      <td>1.0</td>\n",
              "      <td>Urban</td>\n",
              "      <td>Y</td>\n",
              "    </tr>\n",
              "    <tr>\n",
              "      <th>612</th>\n",
              "      <td>LP002984</td>\n",
              "      <td>Male</td>\n",
              "      <td>Yes</td>\n",
              "      <td>2</td>\n",
              "      <td>Graduate</td>\n",
              "      <td>No</td>\n",
              "      <td>7583</td>\n",
              "      <td>0.0</td>\n",
              "      <td>187.0</td>\n",
              "      <td>360.0</td>\n",
              "      <td>1.0</td>\n",
              "      <td>Urban</td>\n",
              "      <td>Y</td>\n",
              "    </tr>\n",
              "    <tr>\n",
              "      <th>613</th>\n",
              "      <td>LP002990</td>\n",
              "      <td>Female</td>\n",
              "      <td>No</td>\n",
              "      <td>0</td>\n",
              "      <td>Graduate</td>\n",
              "      <td>Yes</td>\n",
              "      <td>4583</td>\n",
              "      <td>0.0</td>\n",
              "      <td>133.0</td>\n",
              "      <td>360.0</td>\n",
              "      <td>0.0</td>\n",
              "      <td>Semiurban</td>\n",
              "      <td>N</td>\n",
              "    </tr>\n",
              "  </tbody>\n",
              "</table>\n",
              "<p>614 rows × 13 columns</p>\n",
              "</div>\n",
              "      <button class=\"colab-df-convert\" onclick=\"convertToInteractive('df-ac7502f6-5ec5-49c2-b775-338761681b78')\"\n",
              "              title=\"Convert this dataframe to an interactive table.\"\n",
              "              style=\"display:none;\">\n",
              "        \n",
              "  <svg xmlns=\"http://www.w3.org/2000/svg\" height=\"24px\"viewBox=\"0 0 24 24\"\n",
              "       width=\"24px\">\n",
              "    <path d=\"M0 0h24v24H0V0z\" fill=\"none\"/>\n",
              "    <path d=\"M18.56 5.44l.94 2.06.94-2.06 2.06-.94-2.06-.94-.94-2.06-.94 2.06-2.06.94zm-11 1L8.5 8.5l.94-2.06 2.06-.94-2.06-.94L8.5 2.5l-.94 2.06-2.06.94zm10 10l.94 2.06.94-2.06 2.06-.94-2.06-.94-.94-2.06-.94 2.06-2.06.94z\"/><path d=\"M17.41 7.96l-1.37-1.37c-.4-.4-.92-.59-1.43-.59-.52 0-1.04.2-1.43.59L10.3 9.45l-7.72 7.72c-.78.78-.78 2.05 0 2.83L4 21.41c.39.39.9.59 1.41.59.51 0 1.02-.2 1.41-.59l7.78-7.78 2.81-2.81c.8-.78.8-2.07 0-2.86zM5.41 20L4 18.59l7.72-7.72 1.47 1.35L5.41 20z\"/>\n",
              "  </svg>\n",
              "      </button>\n",
              "      \n",
              "  <style>\n",
              "    .colab-df-container {\n",
              "      display:flex;\n",
              "      flex-wrap:wrap;\n",
              "      gap: 12px;\n",
              "    }\n",
              "\n",
              "    .colab-df-convert {\n",
              "      background-color: #E8F0FE;\n",
              "      border: none;\n",
              "      border-radius: 50%;\n",
              "      cursor: pointer;\n",
              "      display: none;\n",
              "      fill: #1967D2;\n",
              "      height: 32px;\n",
              "      padding: 0 0 0 0;\n",
              "      width: 32px;\n",
              "    }\n",
              "\n",
              "    .colab-df-convert:hover {\n",
              "      background-color: #E2EBFA;\n",
              "      box-shadow: 0px 1px 2px rgba(60, 64, 67, 0.3), 0px 1px 3px 1px rgba(60, 64, 67, 0.15);\n",
              "      fill: #174EA6;\n",
              "    }\n",
              "\n",
              "    [theme=dark] .colab-df-convert {\n",
              "      background-color: #3B4455;\n",
              "      fill: #D2E3FC;\n",
              "    }\n",
              "\n",
              "    [theme=dark] .colab-df-convert:hover {\n",
              "      background-color: #434B5C;\n",
              "      box-shadow: 0px 1px 3px 1px rgba(0, 0, 0, 0.15);\n",
              "      filter: drop-shadow(0px 1px 2px rgba(0, 0, 0, 0.3));\n",
              "      fill: #FFFFFF;\n",
              "    }\n",
              "  </style>\n",
              "\n",
              "      <script>\n",
              "        const buttonEl =\n",
              "          document.querySelector('#df-ac7502f6-5ec5-49c2-b775-338761681b78 button.colab-df-convert');\n",
              "        buttonEl.style.display =\n",
              "          google.colab.kernel.accessAllowed ? 'block' : 'none';\n",
              "\n",
              "        async function convertToInteractive(key) {\n",
              "          const element = document.querySelector('#df-ac7502f6-5ec5-49c2-b775-338761681b78');\n",
              "          const dataTable =\n",
              "            await google.colab.kernel.invokeFunction('convertToInteractive',\n",
              "                                                     [key], {});\n",
              "          if (!dataTable) return;\n",
              "\n",
              "          const docLinkHtml = 'Like what you see? Visit the ' +\n",
              "            '<a target=\"_blank\" href=https://colab.research.google.com/notebooks/data_table.ipynb>data table notebook</a>'\n",
              "            + ' to learn more about interactive tables.';\n",
              "          element.innerHTML = '';\n",
              "          dataTable['output_type'] = 'display_data';\n",
              "          await google.colab.output.renderOutput(dataTable, element);\n",
              "          const docLink = document.createElement('div');\n",
              "          docLink.innerHTML = docLinkHtml;\n",
              "          element.appendChild(docLink);\n",
              "        }\n",
              "      </script>\n",
              "    </div>\n",
              "  </div>\n",
              "  "
            ]
          },
          "metadata": {},
          "execution_count": 34
        }
      ]
    },
    {
      "cell_type": "code",
      "source": [
        "df.shape"
      ],
      "metadata": {
        "colab": {
          "base_uri": "https://localhost:8080/"
        },
        "id": "b81EIeGOuxgi",
        "outputId": "af35b492-6311-4e43-fa69-18a6e3c027c5"
      },
      "execution_count": 35,
      "outputs": [
        {
          "output_type": "execute_result",
          "data": {
            "text/plain": [
              "(614, 13)"
            ]
          },
          "metadata": {},
          "execution_count": 35
        }
      ]
    },
    {
      "cell_type": "code",
      "source": [
        "df.isnull().sum()"
      ],
      "metadata": {
        "colab": {
          "base_uri": "https://localhost:8080/"
        },
        "id": "P2BqiwPsuy09",
        "outputId": "f2af0cf2-e004-4ff7-de4a-d359499ab356"
      },
      "execution_count": 36,
      "outputs": [
        {
          "output_type": "execute_result",
          "data": {
            "text/plain": [
              "Loan_ID               0\n",
              "Gender               13\n",
              "Married               3\n",
              "Dependents           15\n",
              "Education             0\n",
              "Self_Employed        32\n",
              "ApplicantIncome       0\n",
              "CoapplicantIncome     0\n",
              "LoanAmount           22\n",
              "Loan_Amount_Term     14\n",
              "Credit_History       50\n",
              "Property_Area         0\n",
              "Loan_Status           0\n",
              "dtype: int64"
            ]
          },
          "metadata": {},
          "execution_count": 36
        }
      ]
    },
    {
      "cell_type": "code",
      "source": [
        "numerical_features = df.select_dtypes(include = [np.number]).columns\n",
        "categorical_features = df.select_dtypes(include = [np.object]).columns"
      ],
      "metadata": {
        "id": "MCEjr4Y1u0VM"
      },
      "execution_count": 37,
      "outputs": []
    },
    {
      "cell_type": "code",
      "source": [
        "numerical_features"
      ],
      "metadata": {
        "colab": {
          "base_uri": "https://localhost:8080/"
        },
        "id": "Sp3UuHbIu2Bi",
        "outputId": "8fcfc3f0-6c93-47a9-9954-fe7474a63c3d"
      },
      "execution_count": 38,
      "outputs": [
        {
          "output_type": "execute_result",
          "data": {
            "text/plain": [
              "Index(['ApplicantIncome', 'CoapplicantIncome', 'LoanAmount',\n",
              "       'Loan_Amount_Term', 'Credit_History'],\n",
              "      dtype='object')"
            ]
          },
          "metadata": {},
          "execution_count": 38
        }
      ]
    },
    {
      "cell_type": "code",
      "source": [
        "categorical_features"
      ],
      "metadata": {
        "colab": {
          "base_uri": "https://localhost:8080/"
        },
        "id": "np-56aGZu3bf",
        "outputId": "4fbc25c3-9395-49b0-baa7-87732f85c1d4"
      },
      "execution_count": 39,
      "outputs": [
        {
          "output_type": "execute_result",
          "data": {
            "text/plain": [
              "Index(['Loan_ID', 'Gender', 'Married', 'Dependents', 'Education',\n",
              "       'Self_Employed', 'Property_Area', 'Loan_Status'],\n",
              "      dtype='object')"
            ]
          },
          "metadata": {},
          "execution_count": 39
        }
      ]
    },
    {
      "cell_type": "code",
      "source": [
        "df['Gender'] = df['Gender'].fillna(df['Gender'].mode()[0])"
      ],
      "metadata": {
        "id": "FbVTD2uOu5GF"
      },
      "execution_count": 40,
      "outputs": []
    },
    {
      "cell_type": "code",
      "source": [
        "df['Married'] = df['Married'].fillna(df['Married'].mode()[0])"
      ],
      "metadata": {
        "id": "J36k5epou6q3"
      },
      "execution_count": 41,
      "outputs": []
    },
    {
      "cell_type": "code",
      "source": [
        "df['Dependents'] = df['Dependents'].str.replace('+','')"
      ],
      "metadata": {
        "id": "xhcO1nMgu8K2"
      },
      "execution_count": 42,
      "outputs": []
    },
    {
      "cell_type": "code",
      "source": [
        "df['Dependents'] = df['Dependents'].fillna(df['Dependents'].mode()[0])"
      ],
      "metadata": {
        "id": "IY4X7GiFu9sj"
      },
      "execution_count": 43,
      "outputs": []
    },
    {
      "cell_type": "code",
      "source": [
        "df['Self_Employed'] = df['Self_Employed'].fillna(df['Self_Employed'].mode()[0])"
      ],
      "metadata": {
        "id": "J9yRlz9uu_jn"
      },
      "execution_count": 44,
      "outputs": []
    },
    {
      "cell_type": "code",
      "source": [
        "df['LoanAmount'] = df['LoanAmount'].fillna(df['LoanAmount'].mode()[0])"
      ],
      "metadata": {
        "id": "vNB1N7IgvBK-"
      },
      "execution_count": 45,
      "outputs": []
    },
    {
      "cell_type": "code",
      "source": [
        "df['Loan_Amount_Term'] = df['Loan_Amount_Term'].fillna(df['Loan_Amount_Term'].mode()[0])"
      ],
      "metadata": {
        "id": "Wy0WMYzlvCxp"
      },
      "execution_count": 46,
      "outputs": []
    },
    {
      "cell_type": "code",
      "source": [
        "df['Credit_History'] = df['Credit_History'].fillna(df['Credit_History'].mode()[0])"
      ],
      "metadata": {
        "id": "UnVlbSvDvErW"
      },
      "execution_count": 47,
      "outputs": []
    },
    {
      "cell_type": "code",
      "source": [
        "df.isnull().sum()"
      ],
      "metadata": {
        "colab": {
          "base_uri": "https://localhost:8080/"
        },
        "id": "8RjD6aPIvGSP",
        "outputId": "df99beb3-6df1-456c-eef4-de4ad3f21937"
      },
      "execution_count": 48,
      "outputs": [
        {
          "output_type": "execute_result",
          "data": {
            "text/plain": [
              "Loan_ID              0\n",
              "Gender               0\n",
              "Married              0\n",
              "Dependents           0\n",
              "Education            0\n",
              "Self_Employed        0\n",
              "ApplicantIncome      0\n",
              "CoapplicantIncome    0\n",
              "LoanAmount           0\n",
              "Loan_Amount_Term     0\n",
              "Credit_History       0\n",
              "Property_Area        0\n",
              "Loan_Status          0\n",
              "dtype: int64"
            ]
          },
          "metadata": {},
          "execution_count": 48
        }
      ]
    },
    {
      "cell_type": "code",
      "source": [
        "df.select_dtypes(include='object').columns"
      ],
      "metadata": {
        "colab": {
          "base_uri": "https://localhost:8080/"
        },
        "id": "PMv3y_SHvHij",
        "outputId": "a5da9593-e90e-4fc2-fd31-8afe5cabd5ba"
      },
      "execution_count": 49,
      "outputs": [
        {
          "output_type": "execute_result",
          "data": {
            "text/plain": [
              "Index(['Loan_ID', 'Gender', 'Married', 'Dependents', 'Education',\n",
              "       'Self_Employed', 'Property_Area', 'Loan_Status'],\n",
              "      dtype='object')"
            ]
          },
          "metadata": {},
          "execution_count": 49
        }
      ]
    },
    {
      "cell_type": "code",
      "source": [
        "df['Gender'].unique()"
      ],
      "metadata": {
        "colab": {
          "base_uri": "https://localhost:8080/"
        },
        "id": "oVX6qbqpvJ0E",
        "outputId": "3e0fe530-d854-4ee0-f3fd-c50cd9d31df8"
      },
      "execution_count": 50,
      "outputs": [
        {
          "output_type": "execute_result",
          "data": {
            "text/plain": [
              "array(['Male', 'Female'], dtype=object)"
            ]
          },
          "metadata": {},
          "execution_count": 50
        }
      ]
    },
    {
      "cell_type": "code",
      "source": [
        "df['Gender'].replace({'Male':1,'Female':0},inplace=True)"
      ],
      "metadata": {
        "id": "Vchk1V73vLMh"
      },
      "execution_count": 51,
      "outputs": []
    },
    {
      "cell_type": "code",
      "source": [
        "df['Married'].unique()"
      ],
      "metadata": {
        "colab": {
          "base_uri": "https://localhost:8080/"
        },
        "id": "rWPXpPbvvMk5",
        "outputId": "5bce13d9-9734-46b9-c89a-858d8ea0f8dc"
      },
      "execution_count": 52,
      "outputs": [
        {
          "output_type": "execute_result",
          "data": {
            "text/plain": [
              "array(['No', 'Yes'], dtype=object)"
            ]
          },
          "metadata": {},
          "execution_count": 52
        }
      ]
    },
    {
      "cell_type": "code",
      "source": [
        "df['Married'].replace({'Yes':1,'No':0},inplace=True)"
      ],
      "metadata": {
        "id": "8YbDZEpQvOEB"
      },
      "execution_count": 53,
      "outputs": []
    },
    {
      "cell_type": "code",
      "source": [
        "df['Dependents'].unique()"
      ],
      "metadata": {
        "colab": {
          "base_uri": "https://localhost:8080/"
        },
        "id": "aaI4Mu73vPtx",
        "outputId": "dea1d683-1468-4ea0-af7a-6aeb4fcd25c8"
      },
      "execution_count": 54,
      "outputs": [
        {
          "output_type": "execute_result",
          "data": {
            "text/plain": [
              "array(['0', '1', '2', '3'], dtype=object)"
            ]
          },
          "metadata": {},
          "execution_count": 54
        }
      ]
    },
    {
      "cell_type": "code",
      "source": [
        "df['Dependents'].replace({'0':0,'1':1,'2':2,'3':3},inplace=True)"
      ],
      "metadata": {
        "id": "-5lzqWF_vRJQ"
      },
      "execution_count": 55,
      "outputs": []
    },
    {
      "cell_type": "code",
      "source": [
        "df['Self_Employed'].unique()"
      ],
      "metadata": {
        "colab": {
          "base_uri": "https://localhost:8080/"
        },
        "id": "g1jk7u_4vSss",
        "outputId": "1391bf3f-05dd-4965-e71a-511e715ed71d"
      },
      "execution_count": 56,
      "outputs": [
        {
          "output_type": "execute_result",
          "data": {
            "text/plain": [
              "array(['No', 'Yes'], dtype=object)"
            ]
          },
          "metadata": {},
          "execution_count": 56
        }
      ]
    },
    {
      "cell_type": "code",
      "source": [
        "df['Self_Employed'].replace({'Yes':1,'No':0},inplace=True)"
      ],
      "metadata": {
        "id": "XAWii9dnvUO3"
      },
      "execution_count": 57,
      "outputs": []
    },
    {
      "cell_type": "code",
      "source": [
        "df['Property_Area'].unique()"
      ],
      "metadata": {
        "colab": {
          "base_uri": "https://localhost:8080/"
        },
        "id": "E1EliX4uvUX_",
        "outputId": "7e740c4f-bfcc-480a-f11a-265469066084"
      },
      "execution_count": 58,
      "outputs": [
        {
          "output_type": "execute_result",
          "data": {
            "text/plain": [
              "array(['Urban', 'Rural', 'Semiurban'], dtype=object)"
            ]
          },
          "metadata": {},
          "execution_count": 58
        }
      ]
    },
    {
      "cell_type": "code",
      "source": [
        "df['Property_Area'].replace({'Urban':2,'Rural':0,'Semiurban':1},inplace=True)"
      ],
      "metadata": {
        "id": "2tZpeFZrvacR"
      },
      "execution_count": 59,
      "outputs": []
    },
    {
      "cell_type": "code",
      "source": [
        "df['Loan_Status'].unique()"
      ],
      "metadata": {
        "colab": {
          "base_uri": "https://localhost:8080/"
        },
        "id": "XelUJGYevbGT",
        "outputId": "edc128c6-2e99-4c31-a46b-72322b740631"
      },
      "execution_count": 60,
      "outputs": [
        {
          "output_type": "execute_result",
          "data": {
            "text/plain": [
              "array(['Y', 'N'], dtype=object)"
            ]
          },
          "metadata": {},
          "execution_count": 60
        }
      ]
    },
    {
      "cell_type": "code",
      "source": [
        "df['Loan_Status'].replace({'Y':1,'N':0},inplace=True)"
      ],
      "metadata": {
        "id": "NVNZOEPrvcr0"
      },
      "execution_count": 61,
      "outputs": []
    },
    {
      "cell_type": "code",
      "source": [
        "df['Education'].unique()"
      ],
      "metadata": {
        "colab": {
          "base_uri": "https://localhost:8080/"
        },
        "id": "MSviW_HKvePc",
        "outputId": "308bb45e-82a5-48a0-ad40-cddab2732e8e"
      },
      "execution_count": 62,
      "outputs": [
        {
          "output_type": "execute_result",
          "data": {
            "text/plain": [
              "array(['Graduate', 'Not Graduate'], dtype=object)"
            ]
          },
          "metadata": {},
          "execution_count": 62
        }
      ]
    },
    {
      "cell_type": "code",
      "source": [
        "df['Education'].replace({'Graduate':1,'Not Graduate':0},inplace=True)"
      ],
      "metadata": {
        "id": "8yzHfVuDvgkx"
      },
      "execution_count": 63,
      "outputs": []
    },
    {
      "cell_type": "code",
      "source": [
        "df['CoapplicantIncome']=df['CoapplicantIncome'].astype(\"int64\")\n",
        "df['LoanAmount']=df['LoanAmount'].astype(\"int64\")\n",
        "df['Loan_Amount_Term']=df['Loan_Amount_Term'].astype(\"int64\")\n",
        "df['Credit_History']=df['Credit_History'].astype(\"int64\")"
      ],
      "metadata": {
        "id": "kpFYW3lQviMH"
      },
      "execution_count": 64,
      "outputs": []
    },
    {
      "cell_type": "code",
      "source": [
        "from sklearn.preprocessing import LabelEncoder\n",
        "le = LabelEncoder()\n",
        "df['Loan_ID'] = le.fit_transform(df.Loan_ID)"
      ],
      "metadata": {
        "id": "3fzL9xZQvlJ1"
      },
      "execution_count": 65,
      "outputs": []
    },
    {
      "cell_type": "code",
      "source": [
        "df.head()"
      ],
      "metadata": {
        "colab": {
          "base_uri": "https://localhost:8080/",
          "height": 206
        },
        "id": "hDu9sP43vltp",
        "outputId": "1e4e2316-3f19-4065-8326-40c997146b82"
      },
      "execution_count": 66,
      "outputs": [
        {
          "output_type": "execute_result",
          "data": {
            "text/plain": [
              "   Loan_ID  Gender  Married  Dependents  Education  Self_Employed  \\\n",
              "0        0       1        0           0          1              0   \n",
              "1        1       1        1           1          1              0   \n",
              "2        2       1        1           0          1              1   \n",
              "3        3       1        1           0          0              0   \n",
              "4        4       1        0           0          1              0   \n",
              "\n",
              "   ApplicantIncome  CoapplicantIncome  LoanAmount  Loan_Amount_Term  \\\n",
              "0             5849                  0         120               360   \n",
              "1             4583               1508         128               360   \n",
              "2             3000                  0          66               360   \n",
              "3             2583               2358         120               360   \n",
              "4             6000                  0         141               360   \n",
              "\n",
              "   Credit_History  Property_Area  Loan_Status  \n",
              "0               1              2            1  \n",
              "1               1              0            0  \n",
              "2               1              2            1  \n",
              "3               1              2            1  \n",
              "4               1              2            1  "
            ],
            "text/html": [
              "\n",
              "  <div id=\"df-ca6f8dd0-a77c-41d7-b0c5-7e0ec1d4c446\">\n",
              "    <div class=\"colab-df-container\">\n",
              "      <div>\n",
              "<style scoped>\n",
              "    .dataframe tbody tr th:only-of-type {\n",
              "        vertical-align: middle;\n",
              "    }\n",
              "\n",
              "    .dataframe tbody tr th {\n",
              "        vertical-align: top;\n",
              "    }\n",
              "\n",
              "    .dataframe thead th {\n",
              "        text-align: right;\n",
              "    }\n",
              "</style>\n",
              "<table border=\"1\" class=\"dataframe\">\n",
              "  <thead>\n",
              "    <tr style=\"text-align: right;\">\n",
              "      <th></th>\n",
              "      <th>Loan_ID</th>\n",
              "      <th>Gender</th>\n",
              "      <th>Married</th>\n",
              "      <th>Dependents</th>\n",
              "      <th>Education</th>\n",
              "      <th>Self_Employed</th>\n",
              "      <th>ApplicantIncome</th>\n",
              "      <th>CoapplicantIncome</th>\n",
              "      <th>LoanAmount</th>\n",
              "      <th>Loan_Amount_Term</th>\n",
              "      <th>Credit_History</th>\n",
              "      <th>Property_Area</th>\n",
              "      <th>Loan_Status</th>\n",
              "    </tr>\n",
              "  </thead>\n",
              "  <tbody>\n",
              "    <tr>\n",
              "      <th>0</th>\n",
              "      <td>0</td>\n",
              "      <td>1</td>\n",
              "      <td>0</td>\n",
              "      <td>0</td>\n",
              "      <td>1</td>\n",
              "      <td>0</td>\n",
              "      <td>5849</td>\n",
              "      <td>0</td>\n",
              "      <td>120</td>\n",
              "      <td>360</td>\n",
              "      <td>1</td>\n",
              "      <td>2</td>\n",
              "      <td>1</td>\n",
              "    </tr>\n",
              "    <tr>\n",
              "      <th>1</th>\n",
              "      <td>1</td>\n",
              "      <td>1</td>\n",
              "      <td>1</td>\n",
              "      <td>1</td>\n",
              "      <td>1</td>\n",
              "      <td>0</td>\n",
              "      <td>4583</td>\n",
              "      <td>1508</td>\n",
              "      <td>128</td>\n",
              "      <td>360</td>\n",
              "      <td>1</td>\n",
              "      <td>0</td>\n",
              "      <td>0</td>\n",
              "    </tr>\n",
              "    <tr>\n",
              "      <th>2</th>\n",
              "      <td>2</td>\n",
              "      <td>1</td>\n",
              "      <td>1</td>\n",
              "      <td>0</td>\n",
              "      <td>1</td>\n",
              "      <td>1</td>\n",
              "      <td>3000</td>\n",
              "      <td>0</td>\n",
              "      <td>66</td>\n",
              "      <td>360</td>\n",
              "      <td>1</td>\n",
              "      <td>2</td>\n",
              "      <td>1</td>\n",
              "    </tr>\n",
              "    <tr>\n",
              "      <th>3</th>\n",
              "      <td>3</td>\n",
              "      <td>1</td>\n",
              "      <td>1</td>\n",
              "      <td>0</td>\n",
              "      <td>0</td>\n",
              "      <td>0</td>\n",
              "      <td>2583</td>\n",
              "      <td>2358</td>\n",
              "      <td>120</td>\n",
              "      <td>360</td>\n",
              "      <td>1</td>\n",
              "      <td>2</td>\n",
              "      <td>1</td>\n",
              "    </tr>\n",
              "    <tr>\n",
              "      <th>4</th>\n",
              "      <td>4</td>\n",
              "      <td>1</td>\n",
              "      <td>0</td>\n",
              "      <td>0</td>\n",
              "      <td>1</td>\n",
              "      <td>0</td>\n",
              "      <td>6000</td>\n",
              "      <td>0</td>\n",
              "      <td>141</td>\n",
              "      <td>360</td>\n",
              "      <td>1</td>\n",
              "      <td>2</td>\n",
              "      <td>1</td>\n",
              "    </tr>\n",
              "  </tbody>\n",
              "</table>\n",
              "</div>\n",
              "      <button class=\"colab-df-convert\" onclick=\"convertToInteractive('df-ca6f8dd0-a77c-41d7-b0c5-7e0ec1d4c446')\"\n",
              "              title=\"Convert this dataframe to an interactive table.\"\n",
              "              style=\"display:none;\">\n",
              "        \n",
              "  <svg xmlns=\"http://www.w3.org/2000/svg\" height=\"24px\"viewBox=\"0 0 24 24\"\n",
              "       width=\"24px\">\n",
              "    <path d=\"M0 0h24v24H0V0z\" fill=\"none\"/>\n",
              "    <path d=\"M18.56 5.44l.94 2.06.94-2.06 2.06-.94-2.06-.94-.94-2.06-.94 2.06-2.06.94zm-11 1L8.5 8.5l.94-2.06 2.06-.94-2.06-.94L8.5 2.5l-.94 2.06-2.06.94zm10 10l.94 2.06.94-2.06 2.06-.94-2.06-.94-.94-2.06-.94 2.06-2.06.94z\"/><path d=\"M17.41 7.96l-1.37-1.37c-.4-.4-.92-.59-1.43-.59-.52 0-1.04.2-1.43.59L10.3 9.45l-7.72 7.72c-.78.78-.78 2.05 0 2.83L4 21.41c.39.39.9.59 1.41.59.51 0 1.02-.2 1.41-.59l7.78-7.78 2.81-2.81c.8-.78.8-2.07 0-2.86zM5.41 20L4 18.59l7.72-7.72 1.47 1.35L5.41 20z\"/>\n",
              "  </svg>\n",
              "      </button>\n",
              "      \n",
              "  <style>\n",
              "    .colab-df-container {\n",
              "      display:flex;\n",
              "      flex-wrap:wrap;\n",
              "      gap: 12px;\n",
              "    }\n",
              "\n",
              "    .colab-df-convert {\n",
              "      background-color: #E8F0FE;\n",
              "      border: none;\n",
              "      border-radius: 50%;\n",
              "      cursor: pointer;\n",
              "      display: none;\n",
              "      fill: #1967D2;\n",
              "      height: 32px;\n",
              "      padding: 0 0 0 0;\n",
              "      width: 32px;\n",
              "    }\n",
              "\n",
              "    .colab-df-convert:hover {\n",
              "      background-color: #E2EBFA;\n",
              "      box-shadow: 0px 1px 2px rgba(60, 64, 67, 0.3), 0px 1px 3px 1px rgba(60, 64, 67, 0.15);\n",
              "      fill: #174EA6;\n",
              "    }\n",
              "\n",
              "    [theme=dark] .colab-df-convert {\n",
              "      background-color: #3B4455;\n",
              "      fill: #D2E3FC;\n",
              "    }\n",
              "\n",
              "    [theme=dark] .colab-df-convert:hover {\n",
              "      background-color: #434B5C;\n",
              "      box-shadow: 0px 1px 3px 1px rgba(0, 0, 0, 0.15);\n",
              "      filter: drop-shadow(0px 1px 2px rgba(0, 0, 0, 0.3));\n",
              "      fill: #FFFFFF;\n",
              "    }\n",
              "  </style>\n",
              "\n",
              "      <script>\n",
              "        const buttonEl =\n",
              "          document.querySelector('#df-ca6f8dd0-a77c-41d7-b0c5-7e0ec1d4c446 button.colab-df-convert');\n",
              "        buttonEl.style.display =\n",
              "          google.colab.kernel.accessAllowed ? 'block' : 'none';\n",
              "\n",
              "        async function convertToInteractive(key) {\n",
              "          const element = document.querySelector('#df-ca6f8dd0-a77c-41d7-b0c5-7e0ec1d4c446');\n",
              "          const dataTable =\n",
              "            await google.colab.kernel.invokeFunction('convertToInteractive',\n",
              "                                                     [key], {});\n",
              "          if (!dataTable) return;\n",
              "\n",
              "          const docLinkHtml = 'Like what you see? Visit the ' +\n",
              "            '<a target=\"_blank\" href=https://colab.research.google.com/notebooks/data_table.ipynb>data table notebook</a>'\n",
              "            + ' to learn more about interactive tables.';\n",
              "          element.innerHTML = '';\n",
              "          dataTable['output_type'] = 'display_data';\n",
              "          await google.colab.output.renderOutput(dataTable, element);\n",
              "          const docLink = document.createElement('div');\n",
              "          docLink.innerHTML = docLinkHtml;\n",
              "          element.appendChild(docLink);\n",
              "        }\n",
              "      </script>\n",
              "    </div>\n",
              "  </div>\n",
              "  "
            ]
          },
          "metadata": {},
          "execution_count": 66
        }
      ]
    },
    {
      "cell_type": "code",
      "source": [
        "from imblearn.combine import SMOTETomek"
      ],
      "metadata": {
        "id": "aKInu7zZvnMq"
      },
      "execution_count": 67,
      "outputs": []
    },
    {
      "cell_type": "code",
      "source": [
        "smote = SMOTETomek(0.90)"
      ],
      "metadata": {
        "id": "heXs3vmFvow_"
      },
      "execution_count": 68,
      "outputs": []
    },
    {
      "cell_type": "code",
      "source": [
        "y = df['Loan_Status']\n",
        "x = df.drop(columns=['Loan_Status'],axis=1)"
      ],
      "metadata": {
        "id": "i7FQ1eVlvqNX"
      },
      "execution_count": 69,
      "outputs": []
    },
    {
      "cell_type": "code",
      "source": [
        "x_bal,y_bal = smote.fit_resample(x,y)"
      ],
      "metadata": {
        "id": "5B0oRpHwvr4z"
      },
      "execution_count": 70,
      "outputs": []
    },
    {
      "cell_type": "code",
      "source": [
        "print(y.value_counts())\n",
        "print(y_bal.value_counts())"
      ],
      "metadata": {
        "colab": {
          "base_uri": "https://localhost:8080/"
        },
        "id": "f0_2jzgBvthl",
        "outputId": "40ff67e6-2a99-4edf-b95e-a0fffbb2c2f2"
      },
      "execution_count": 71,
      "outputs": [
        {
          "output_type": "stream",
          "name": "stdout",
          "text": [
            "1    422\n",
            "0    192\n",
            "Name: Loan_Status, dtype: int64\n",
            "1    365\n",
            "0    322\n",
            "Name: Loan_Status, dtype: int64\n"
          ]
        }
      ]
    },
    {
      "cell_type": "code",
      "source": [
        "from sklearn.preprocessing import StandardScaler"
      ],
      "metadata": {
        "id": "vICg7Ol8vvWZ"
      },
      "execution_count": 72,
      "outputs": []
    },
    {
      "cell_type": "code",
      "source": [
        "sc = StandardScaler()\n",
        "x_bal = sc.fit_transform(x_bal)"
      ],
      "metadata": {
        "id": "r__IHFQdvxQy"
      },
      "execution_count": 73,
      "outputs": []
    },
    {
      "cell_type": "code",
      "source": [
        "x_bal = pd.DataFrame(x_bal)"
      ],
      "metadata": {
        "id": "P1lFYjFnvy2U"
      },
      "execution_count": 74,
      "outputs": []
    },
    {
      "cell_type": "code",
      "source": [
        "x_bal.head()"
      ],
      "metadata": {
        "colab": {
          "base_uri": "https://localhost:8080/",
          "height": 206
        },
        "id": "wz0ssYAdv0Gt",
        "outputId": "909a1620-1102-4ed7-d07b-fe34c28f6ea2"
      },
      "execution_count": 75,
      "outputs": [
        {
          "output_type": "execute_result",
          "data": {
            "text/plain": [
              "         0         1         2         3         4         5         6   \\\n",
              "0 -1.726647  0.548759 -1.173526 -0.696185  0.598087 -0.320513  0.117265   \n",
              "1 -1.720786  0.548759  0.852133  0.359619  0.598087 -0.320513 -0.100833   \n",
              "2 -1.714925  0.548759  0.852133 -0.696185  0.598087  3.119996 -0.373543   \n",
              "3 -1.709064  0.548759  0.852133 -0.696185 -1.671999 -0.320513 -0.445381   \n",
              "4 -1.703202  0.548759 -1.173526 -0.696185  0.598087 -0.320513  0.143278   \n",
              "\n",
              "         7         8         9         10        11  \n",
              "0 -0.548811 -0.298048  0.269264  0.607063  1.328911  \n",
              "1 -0.018027 -0.195643  0.269264  0.607063 -1.231992  \n",
              "2 -0.548811 -0.989281  0.269264  0.607063  1.328911  \n",
              "3  0.281156 -0.298048  0.269264  0.607063  1.328911  \n",
              "4 -0.548811 -0.029235  0.269264  0.607063  1.328911  "
            ],
            "text/html": [
              "\n",
              "  <div id=\"df-98bf84a3-27fb-4652-8c02-b611e4f93051\">\n",
              "    <div class=\"colab-df-container\">\n",
              "      <div>\n",
              "<style scoped>\n",
              "    .dataframe tbody tr th:only-of-type {\n",
              "        vertical-align: middle;\n",
              "    }\n",
              "\n",
              "    .dataframe tbody tr th {\n",
              "        vertical-align: top;\n",
              "    }\n",
              "\n",
              "    .dataframe thead th {\n",
              "        text-align: right;\n",
              "    }\n",
              "</style>\n",
              "<table border=\"1\" class=\"dataframe\">\n",
              "  <thead>\n",
              "    <tr style=\"text-align: right;\">\n",
              "      <th></th>\n",
              "      <th>0</th>\n",
              "      <th>1</th>\n",
              "      <th>2</th>\n",
              "      <th>3</th>\n",
              "      <th>4</th>\n",
              "      <th>5</th>\n",
              "      <th>6</th>\n",
              "      <th>7</th>\n",
              "      <th>8</th>\n",
              "      <th>9</th>\n",
              "      <th>10</th>\n",
              "      <th>11</th>\n",
              "    </tr>\n",
              "  </thead>\n",
              "  <tbody>\n",
              "    <tr>\n",
              "      <th>0</th>\n",
              "      <td>-1.726647</td>\n",
              "      <td>0.548759</td>\n",
              "      <td>-1.173526</td>\n",
              "      <td>-0.696185</td>\n",
              "      <td>0.598087</td>\n",
              "      <td>-0.320513</td>\n",
              "      <td>0.117265</td>\n",
              "      <td>-0.548811</td>\n",
              "      <td>-0.298048</td>\n",
              "      <td>0.269264</td>\n",
              "      <td>0.607063</td>\n",
              "      <td>1.328911</td>\n",
              "    </tr>\n",
              "    <tr>\n",
              "      <th>1</th>\n",
              "      <td>-1.720786</td>\n",
              "      <td>0.548759</td>\n",
              "      <td>0.852133</td>\n",
              "      <td>0.359619</td>\n",
              "      <td>0.598087</td>\n",
              "      <td>-0.320513</td>\n",
              "      <td>-0.100833</td>\n",
              "      <td>-0.018027</td>\n",
              "      <td>-0.195643</td>\n",
              "      <td>0.269264</td>\n",
              "      <td>0.607063</td>\n",
              "      <td>-1.231992</td>\n",
              "    </tr>\n",
              "    <tr>\n",
              "      <th>2</th>\n",
              "      <td>-1.714925</td>\n",
              "      <td>0.548759</td>\n",
              "      <td>0.852133</td>\n",
              "      <td>-0.696185</td>\n",
              "      <td>0.598087</td>\n",
              "      <td>3.119996</td>\n",
              "      <td>-0.373543</td>\n",
              "      <td>-0.548811</td>\n",
              "      <td>-0.989281</td>\n",
              "      <td>0.269264</td>\n",
              "      <td>0.607063</td>\n",
              "      <td>1.328911</td>\n",
              "    </tr>\n",
              "    <tr>\n",
              "      <th>3</th>\n",
              "      <td>-1.709064</td>\n",
              "      <td>0.548759</td>\n",
              "      <td>0.852133</td>\n",
              "      <td>-0.696185</td>\n",
              "      <td>-1.671999</td>\n",
              "      <td>-0.320513</td>\n",
              "      <td>-0.445381</td>\n",
              "      <td>0.281156</td>\n",
              "      <td>-0.298048</td>\n",
              "      <td>0.269264</td>\n",
              "      <td>0.607063</td>\n",
              "      <td>1.328911</td>\n",
              "    </tr>\n",
              "    <tr>\n",
              "      <th>4</th>\n",
              "      <td>-1.703202</td>\n",
              "      <td>0.548759</td>\n",
              "      <td>-1.173526</td>\n",
              "      <td>-0.696185</td>\n",
              "      <td>0.598087</td>\n",
              "      <td>-0.320513</td>\n",
              "      <td>0.143278</td>\n",
              "      <td>-0.548811</td>\n",
              "      <td>-0.029235</td>\n",
              "      <td>0.269264</td>\n",
              "      <td>0.607063</td>\n",
              "      <td>1.328911</td>\n",
              "    </tr>\n",
              "  </tbody>\n",
              "</table>\n",
              "</div>\n",
              "      <button class=\"colab-df-convert\" onclick=\"convertToInteractive('df-98bf84a3-27fb-4652-8c02-b611e4f93051')\"\n",
              "              title=\"Convert this dataframe to an interactive table.\"\n",
              "              style=\"display:none;\">\n",
              "        \n",
              "  <svg xmlns=\"http://www.w3.org/2000/svg\" height=\"24px\"viewBox=\"0 0 24 24\"\n",
              "       width=\"24px\">\n",
              "    <path d=\"M0 0h24v24H0V0z\" fill=\"none\"/>\n",
              "    <path d=\"M18.56 5.44l.94 2.06.94-2.06 2.06-.94-2.06-.94-.94-2.06-.94 2.06-2.06.94zm-11 1L8.5 8.5l.94-2.06 2.06-.94-2.06-.94L8.5 2.5l-.94 2.06-2.06.94zm10 10l.94 2.06.94-2.06 2.06-.94-2.06-.94-.94-2.06-.94 2.06-2.06.94z\"/><path d=\"M17.41 7.96l-1.37-1.37c-.4-.4-.92-.59-1.43-.59-.52 0-1.04.2-1.43.59L10.3 9.45l-7.72 7.72c-.78.78-.78 2.05 0 2.83L4 21.41c.39.39.9.59 1.41.59.51 0 1.02-.2 1.41-.59l7.78-7.78 2.81-2.81c.8-.78.8-2.07 0-2.86zM5.41 20L4 18.59l7.72-7.72 1.47 1.35L5.41 20z\"/>\n",
              "  </svg>\n",
              "      </button>\n",
              "      \n",
              "  <style>\n",
              "    .colab-df-container {\n",
              "      display:flex;\n",
              "      flex-wrap:wrap;\n",
              "      gap: 12px;\n",
              "    }\n",
              "\n",
              "    .colab-df-convert {\n",
              "      background-color: #E8F0FE;\n",
              "      border: none;\n",
              "      border-radius: 50%;\n",
              "      cursor: pointer;\n",
              "      display: none;\n",
              "      fill: #1967D2;\n",
              "      height: 32px;\n",
              "      padding: 0 0 0 0;\n",
              "      width: 32px;\n",
              "    }\n",
              "\n",
              "    .colab-df-convert:hover {\n",
              "      background-color: #E2EBFA;\n",
              "      box-shadow: 0px 1px 2px rgba(60, 64, 67, 0.3), 0px 1px 3px 1px rgba(60, 64, 67, 0.15);\n",
              "      fill: #174EA6;\n",
              "    }\n",
              "\n",
              "    [theme=dark] .colab-df-convert {\n",
              "      background-color: #3B4455;\n",
              "      fill: #D2E3FC;\n",
              "    }\n",
              "\n",
              "    [theme=dark] .colab-df-convert:hover {\n",
              "      background-color: #434B5C;\n",
              "      box-shadow: 0px 1px 3px 1px rgba(0, 0, 0, 0.15);\n",
              "      filter: drop-shadow(0px 1px 2px rgba(0, 0, 0, 0.3));\n",
              "      fill: #FFFFFF;\n",
              "    }\n",
              "  </style>\n",
              "\n",
              "      <script>\n",
              "        const buttonEl =\n",
              "          document.querySelector('#df-98bf84a3-27fb-4652-8c02-b611e4f93051 button.colab-df-convert');\n",
              "        buttonEl.style.display =\n",
              "          google.colab.kernel.accessAllowed ? 'block' : 'none';\n",
              "\n",
              "        async function convertToInteractive(key) {\n",
              "          const element = document.querySelector('#df-98bf84a3-27fb-4652-8c02-b611e4f93051');\n",
              "          const dataTable =\n",
              "            await google.colab.kernel.invokeFunction('convertToInteractive',\n",
              "                                                     [key], {});\n",
              "          if (!dataTable) return;\n",
              "\n",
              "          const docLinkHtml = 'Like what you see? Visit the ' +\n",
              "            '<a target=\"_blank\" href=https://colab.research.google.com/notebooks/data_table.ipynb>data table notebook</a>'\n",
              "            + ' to learn more about interactive tables.';\n",
              "          element.innerHTML = '';\n",
              "          dataTable['output_type'] = 'display_data';\n",
              "          await google.colab.output.renderOutput(dataTable, element);\n",
              "          const docLink = document.createElement('div');\n",
              "          docLink.innerHTML = docLinkHtml;\n",
              "          element.appendChild(docLink);\n",
              "        }\n",
              "      </script>\n",
              "    </div>\n",
              "  </div>\n",
              "  "
            ]
          },
          "metadata": {},
          "execution_count": 75
        }
      ]
    },
    {
      "cell_type": "code",
      "source": [
        "from sklearn.model_selection import train_test_split"
      ],
      "metadata": {
        "id": "Pno3YFGwv1jF"
      },
      "execution_count": 76,
      "outputs": []
    },
    {
      "cell_type": "code",
      "source": [
        "x_train, x_test, y_train, y_test = train_test_split(x_bal, y_bal, test_size = 0.33, random_state = 42)"
      ],
      "metadata": {
        "id": "V911o_qyv3Mo"
      },
      "execution_count": 77,
      "outputs": []
    },
    {
      "cell_type": "code",
      "source": [
        "print(x_train.shape)\n",
        "print(y_train.shape)\n",
        "print(x_test.shape)\n",
        "print(y_test.shape)"
      ],
      "metadata": {
        "colab": {
          "base_uri": "https://localhost:8080/"
        },
        "id": "3MFXg-x7v5Ll",
        "outputId": "cc6e0e8a-7704-4e09-e055-7dccad1edfc8"
      },
      "execution_count": 78,
      "outputs": [
        {
          "output_type": "stream",
          "name": "stdout",
          "text": [
            "(460, 12)\n",
            "(460,)\n",
            "(227, 12)\n",
            "(227,)\n"
          ]
        }
      ]
    },
    {
      "cell_type": "code",
      "source": [
        "x_train"
      ],
      "metadata": {
        "colab": {
          "base_uri": "https://localhost:8080/",
          "height": 424
        },
        "id": "ngfJMR3mv6l6",
        "outputId": "5f29dd07-bc79-432e-a6df-ec2e852dc355"
      },
      "execution_count": 79,
      "outputs": [
        {
          "output_type": "execute_result",
          "data": {
            "text/plain": [
              "           0         1         2         3         4         5         6   \\\n",
              "311  0.359929  0.548759  0.852133  1.415423  0.598087 -0.320513  0.545192   \n",
              "382  0.887434  0.548759  0.852133  1.415423 -1.671999 -0.320513 -0.088947   \n",
              "137 -0.824027  0.548759 -1.173526 -0.696185  0.598087 -0.320513 -0.329785   \n",
              "346  0.652987  0.548759  0.852133 -0.696185 -1.671999 -0.320513 -0.517046   \n",
              "326  0.483013  0.548759  0.852133 -0.696185  0.598087 -0.320513 -0.147864   \n",
              "..        ...       ...       ...       ...       ...       ...       ...   \n",
              "71  -1.269476  0.548759  0.852133  2.471227  0.598087 -0.320513 -0.344773   \n",
              "106 -1.040890  0.548759  0.852133  0.359619  0.598087 -0.320513 -0.508950   \n",
              "270  0.078593  0.548759 -1.173526 -0.696185  0.598087 -0.320513  2.595248   \n",
              "435  1.250826  0.548759  0.852133 -0.696185  0.598087  3.119996 -0.463297   \n",
              "102 -1.076058 -1.822294  0.852133 -0.696185  0.598087 -0.320513 -0.385774   \n",
              "\n",
              "           7         8         9         10        11  \n",
              "311  0.565907  0.277980  0.269264  0.607063 -1.231992  \n",
              "382 -0.548811 -0.426054  0.269264  0.607063 -1.231992  \n",
              "137 -0.548811 -1.194091  0.269264  0.607063  1.328911  \n",
              "346  0.295939 -0.362051  0.269264  0.607063  1.328911  \n",
              "326 -0.548811 -0.170041  0.269264  0.607063  0.048460  \n",
              "..        ...       ...       ...       ...       ...  \n",
              "71   0.859105  0.469990 -0.690615 -1.647275  0.048460  \n",
              "106 -0.056744 -0.746069  0.269264  0.607063  1.328911  \n",
              "270 -0.548811  4.310176  0.269264  0.607063 -1.231992  \n",
              "435  0.511702  0.572395  0.269264  0.607063  1.328911  \n",
              "102  0.272356 -0.054836  0.269264  0.607063  0.048460  \n",
              "\n",
              "[460 rows x 12 columns]"
            ],
            "text/html": [
              "\n",
              "  <div id=\"df-f819881e-9b29-478b-8428-e128fa4a81be\">\n",
              "    <div class=\"colab-df-container\">\n",
              "      <div>\n",
              "<style scoped>\n",
              "    .dataframe tbody tr th:only-of-type {\n",
              "        vertical-align: middle;\n",
              "    }\n",
              "\n",
              "    .dataframe tbody tr th {\n",
              "        vertical-align: top;\n",
              "    }\n",
              "\n",
              "    .dataframe thead th {\n",
              "        text-align: right;\n",
              "    }\n",
              "</style>\n",
              "<table border=\"1\" class=\"dataframe\">\n",
              "  <thead>\n",
              "    <tr style=\"text-align: right;\">\n",
              "      <th></th>\n",
              "      <th>0</th>\n",
              "      <th>1</th>\n",
              "      <th>2</th>\n",
              "      <th>3</th>\n",
              "      <th>4</th>\n",
              "      <th>5</th>\n",
              "      <th>6</th>\n",
              "      <th>7</th>\n",
              "      <th>8</th>\n",
              "      <th>9</th>\n",
              "      <th>10</th>\n",
              "      <th>11</th>\n",
              "    </tr>\n",
              "  </thead>\n",
              "  <tbody>\n",
              "    <tr>\n",
              "      <th>311</th>\n",
              "      <td>0.359929</td>\n",
              "      <td>0.548759</td>\n",
              "      <td>0.852133</td>\n",
              "      <td>1.415423</td>\n",
              "      <td>0.598087</td>\n",
              "      <td>-0.320513</td>\n",
              "      <td>0.545192</td>\n",
              "      <td>0.565907</td>\n",
              "      <td>0.277980</td>\n",
              "      <td>0.269264</td>\n",
              "      <td>0.607063</td>\n",
              "      <td>-1.231992</td>\n",
              "    </tr>\n",
              "    <tr>\n",
              "      <th>382</th>\n",
              "      <td>0.887434</td>\n",
              "      <td>0.548759</td>\n",
              "      <td>0.852133</td>\n",
              "      <td>1.415423</td>\n",
              "      <td>-1.671999</td>\n",
              "      <td>-0.320513</td>\n",
              "      <td>-0.088947</td>\n",
              "      <td>-0.548811</td>\n",
              "      <td>-0.426054</td>\n",
              "      <td>0.269264</td>\n",
              "      <td>0.607063</td>\n",
              "      <td>-1.231992</td>\n",
              "    </tr>\n",
              "    <tr>\n",
              "      <th>137</th>\n",
              "      <td>-0.824027</td>\n",
              "      <td>0.548759</td>\n",
              "      <td>-1.173526</td>\n",
              "      <td>-0.696185</td>\n",
              "      <td>0.598087</td>\n",
              "      <td>-0.320513</td>\n",
              "      <td>-0.329785</td>\n",
              "      <td>-0.548811</td>\n",
              "      <td>-1.194091</td>\n",
              "      <td>0.269264</td>\n",
              "      <td>0.607063</td>\n",
              "      <td>1.328911</td>\n",
              "    </tr>\n",
              "    <tr>\n",
              "      <th>346</th>\n",
              "      <td>0.652987</td>\n",
              "      <td>0.548759</td>\n",
              "      <td>0.852133</td>\n",
              "      <td>-0.696185</td>\n",
              "      <td>-1.671999</td>\n",
              "      <td>-0.320513</td>\n",
              "      <td>-0.517046</td>\n",
              "      <td>0.295939</td>\n",
              "      <td>-0.362051</td>\n",
              "      <td>0.269264</td>\n",
              "      <td>0.607063</td>\n",
              "      <td>1.328911</td>\n",
              "    </tr>\n",
              "    <tr>\n",
              "      <th>326</th>\n",
              "      <td>0.483013</td>\n",
              "      <td>0.548759</td>\n",
              "      <td>0.852133</td>\n",
              "      <td>-0.696185</td>\n",
              "      <td>0.598087</td>\n",
              "      <td>-0.320513</td>\n",
              "      <td>-0.147864</td>\n",
              "      <td>-0.548811</td>\n",
              "      <td>-0.170041</td>\n",
              "      <td>0.269264</td>\n",
              "      <td>0.607063</td>\n",
              "      <td>0.048460</td>\n",
              "    </tr>\n",
              "    <tr>\n",
              "      <th>...</th>\n",
              "      <td>...</td>\n",
              "      <td>...</td>\n",
              "      <td>...</td>\n",
              "      <td>...</td>\n",
              "      <td>...</td>\n",
              "      <td>...</td>\n",
              "      <td>...</td>\n",
              "      <td>...</td>\n",
              "      <td>...</td>\n",
              "      <td>...</td>\n",
              "      <td>...</td>\n",
              "      <td>...</td>\n",
              "    </tr>\n",
              "    <tr>\n",
              "      <th>71</th>\n",
              "      <td>-1.269476</td>\n",
              "      <td>0.548759</td>\n",
              "      <td>0.852133</td>\n",
              "      <td>2.471227</td>\n",
              "      <td>0.598087</td>\n",
              "      <td>-0.320513</td>\n",
              "      <td>-0.344773</td>\n",
              "      <td>0.859105</td>\n",
              "      <td>0.469990</td>\n",
              "      <td>-0.690615</td>\n",
              "      <td>-1.647275</td>\n",
              "      <td>0.048460</td>\n",
              "    </tr>\n",
              "    <tr>\n",
              "      <th>106</th>\n",
              "      <td>-1.040890</td>\n",
              "      <td>0.548759</td>\n",
              "      <td>0.852133</td>\n",
              "      <td>0.359619</td>\n",
              "      <td>0.598087</td>\n",
              "      <td>-0.320513</td>\n",
              "      <td>-0.508950</td>\n",
              "      <td>-0.056744</td>\n",
              "      <td>-0.746069</td>\n",
              "      <td>0.269264</td>\n",
              "      <td>0.607063</td>\n",
              "      <td>1.328911</td>\n",
              "    </tr>\n",
              "    <tr>\n",
              "      <th>270</th>\n",
              "      <td>0.078593</td>\n",
              "      <td>0.548759</td>\n",
              "      <td>-1.173526</td>\n",
              "      <td>-0.696185</td>\n",
              "      <td>0.598087</td>\n",
              "      <td>-0.320513</td>\n",
              "      <td>2.595248</td>\n",
              "      <td>-0.548811</td>\n",
              "      <td>4.310176</td>\n",
              "      <td>0.269264</td>\n",
              "      <td>0.607063</td>\n",
              "      <td>-1.231992</td>\n",
              "    </tr>\n",
              "    <tr>\n",
              "      <th>435</th>\n",
              "      <td>1.250826</td>\n",
              "      <td>0.548759</td>\n",
              "      <td>0.852133</td>\n",
              "      <td>-0.696185</td>\n",
              "      <td>0.598087</td>\n",
              "      <td>3.119996</td>\n",
              "      <td>-0.463297</td>\n",
              "      <td>0.511702</td>\n",
              "      <td>0.572395</td>\n",
              "      <td>0.269264</td>\n",
              "      <td>0.607063</td>\n",
              "      <td>1.328911</td>\n",
              "    </tr>\n",
              "    <tr>\n",
              "      <th>102</th>\n",
              "      <td>-1.076058</td>\n",
              "      <td>-1.822294</td>\n",
              "      <td>0.852133</td>\n",
              "      <td>-0.696185</td>\n",
              "      <td>0.598087</td>\n",
              "      <td>-0.320513</td>\n",
              "      <td>-0.385774</td>\n",
              "      <td>0.272356</td>\n",
              "      <td>-0.054836</td>\n",
              "      <td>0.269264</td>\n",
              "      <td>0.607063</td>\n",
              "      <td>0.048460</td>\n",
              "    </tr>\n",
              "  </tbody>\n",
              "</table>\n",
              "<p>460 rows × 12 columns</p>\n",
              "</div>\n",
              "      <button class=\"colab-df-convert\" onclick=\"convertToInteractive('df-f819881e-9b29-478b-8428-e128fa4a81be')\"\n",
              "              title=\"Convert this dataframe to an interactive table.\"\n",
              "              style=\"display:none;\">\n",
              "        \n",
              "  <svg xmlns=\"http://www.w3.org/2000/svg\" height=\"24px\"viewBox=\"0 0 24 24\"\n",
              "       width=\"24px\">\n",
              "    <path d=\"M0 0h24v24H0V0z\" fill=\"none\"/>\n",
              "    <path d=\"M18.56 5.44l.94 2.06.94-2.06 2.06-.94-2.06-.94-.94-2.06-.94 2.06-2.06.94zm-11 1L8.5 8.5l.94-2.06 2.06-.94-2.06-.94L8.5 2.5l-.94 2.06-2.06.94zm10 10l.94 2.06.94-2.06 2.06-.94-2.06-.94-.94-2.06-.94 2.06-2.06.94z\"/><path d=\"M17.41 7.96l-1.37-1.37c-.4-.4-.92-.59-1.43-.59-.52 0-1.04.2-1.43.59L10.3 9.45l-7.72 7.72c-.78.78-.78 2.05 0 2.83L4 21.41c.39.39.9.59 1.41.59.51 0 1.02-.2 1.41-.59l7.78-7.78 2.81-2.81c.8-.78.8-2.07 0-2.86zM5.41 20L4 18.59l7.72-7.72 1.47 1.35L5.41 20z\"/>\n",
              "  </svg>\n",
              "      </button>\n",
              "      \n",
              "  <style>\n",
              "    .colab-df-container {\n",
              "      display:flex;\n",
              "      flex-wrap:wrap;\n",
              "      gap: 12px;\n",
              "    }\n",
              "\n",
              "    .colab-df-convert {\n",
              "      background-color: #E8F0FE;\n",
              "      border: none;\n",
              "      border-radius: 50%;\n",
              "      cursor: pointer;\n",
              "      display: none;\n",
              "      fill: #1967D2;\n",
              "      height: 32px;\n",
              "      padding: 0 0 0 0;\n",
              "      width: 32px;\n",
              "    }\n",
              "\n",
              "    .colab-df-convert:hover {\n",
              "      background-color: #E2EBFA;\n",
              "      box-shadow: 0px 1px 2px rgba(60, 64, 67, 0.3), 0px 1px 3px 1px rgba(60, 64, 67, 0.15);\n",
              "      fill: #174EA6;\n",
              "    }\n",
              "\n",
              "    [theme=dark] .colab-df-convert {\n",
              "      background-color: #3B4455;\n",
              "      fill: #D2E3FC;\n",
              "    }\n",
              "\n",
              "    [theme=dark] .colab-df-convert:hover {\n",
              "      background-color: #434B5C;\n",
              "      box-shadow: 0px 1px 3px 1px rgba(0, 0, 0, 0.15);\n",
              "      filter: drop-shadow(0px 1px 2px rgba(0, 0, 0, 0.3));\n",
              "      fill: #FFFFFF;\n",
              "    }\n",
              "  </style>\n",
              "\n",
              "      <script>\n",
              "        const buttonEl =\n",
              "          document.querySelector('#df-f819881e-9b29-478b-8428-e128fa4a81be button.colab-df-convert');\n",
              "        buttonEl.style.display =\n",
              "          google.colab.kernel.accessAllowed ? 'block' : 'none';\n",
              "\n",
              "        async function convertToInteractive(key) {\n",
              "          const element = document.querySelector('#df-f819881e-9b29-478b-8428-e128fa4a81be');\n",
              "          const dataTable =\n",
              "            await google.colab.kernel.invokeFunction('convertToInteractive',\n",
              "                                                     [key], {});\n",
              "          if (!dataTable) return;\n",
              "\n",
              "          const docLinkHtml = 'Like what you see? Visit the ' +\n",
              "            '<a target=\"_blank\" href=https://colab.research.google.com/notebooks/data_table.ipynb>data table notebook</a>'\n",
              "            + ' to learn more about interactive tables.';\n",
              "          element.innerHTML = '';\n",
              "          dataTable['output_type'] = 'display_data';\n",
              "          await google.colab.output.renderOutput(dataTable, element);\n",
              "          const docLink = document.createElement('div');\n",
              "          docLink.innerHTML = docLinkHtml;\n",
              "          element.appendChild(docLink);\n",
              "        }\n",
              "      </script>\n",
              "    </div>\n",
              "  </div>\n",
              "  "
            ]
          },
          "metadata": {},
          "execution_count": 79
        }
      ]
    },
    {
      "cell_type": "code",
      "source": [
        "x_test"
      ],
      "metadata": {
        "colab": {
          "base_uri": "https://localhost:8080/",
          "height": 424
        },
        "id": "2acXVibVv8SO",
        "outputId": "66829a57-aef5-4ccc-bb27-8ae69ee71dc2"
      },
      "execution_count": 80,
      "outputs": [
        {
          "output_type": "execute_result",
          "data": {
            "text/plain": [
              "           0         1         2         3         4         5         6   \\\n",
              "286  0.184094  0.548759 -1.173526 -0.696185  0.598087 -0.320513 -0.043294   \n",
              "653 -0.782999  0.548759 -1.173526 -0.696185 -1.671999 -0.320513 -0.548917   \n",
              "257 -0.009325 -1.822294 -1.173526 -0.696185  0.598087 -0.320513  0.042843   \n",
              "336  0.559208  0.548759 -1.173526  2.471227  0.598087 -0.320513  0.688869   \n",
              "318  0.418540  0.548759 -1.173526 -0.696185  0.598087 -0.320513 -0.459679   \n",
              "..        ...       ...       ...       ...       ...       ...       ...   \n",
              "15  -1.632868  0.548759 -1.173526  0.359619 -1.671999 -0.320513 -0.270867   \n",
              "375  0.840544  0.548759 -1.173526 -0.696185  0.598087  3.119996  0.904038   \n",
              "234 -0.161715  0.548759  0.852133  2.471227  0.598087 -0.320513 -0.143902   \n",
              "642 -0.226188 -1.822294 -1.173526 -0.696185 -1.671999 -0.320513 -0.462436   \n",
              "271  0.084454  0.548759  0.852133  1.415423 -1.671999 -0.320513  0.430458   \n",
              "\n",
              "           7         8         9         10        11  \n",
              "286 -0.548811 -0.170041  0.269264 -1.647275 -1.231992  \n",
              "653 -0.548811 -1.168490  0.269264 -1.647275  1.328911  \n",
              "257 -0.548811 -0.003633  2.189022 -1.647275  1.328911  \n",
              "336 -0.548811  0.533993  0.269264  0.607063 -1.231992  \n",
              "318 -0.548811 -0.605263  2.189022  0.607063  0.048460  \n",
              "..        ...       ...       ...       ...       ...  \n",
              "15  -0.548811 -0.554060 -1.650494  0.607063  1.328911  \n",
              "375 -0.548811  0.559594  0.269264 -1.647275  1.328911  \n",
              "234  0.088623  0.213977  0.269264 -1.647275  1.328911  \n",
              "642  0.139308 -0.157241 -1.954455 -1.647275  1.328911  \n",
              "271 -0.548811  0.533993  0.269264  0.607063 -1.231992  \n",
              "\n",
              "[227 rows x 12 columns]"
            ],
            "text/html": [
              "\n",
              "  <div id=\"df-7cbb7eb0-b68d-4266-b667-813948c2612e\">\n",
              "    <div class=\"colab-df-container\">\n",
              "      <div>\n",
              "<style scoped>\n",
              "    .dataframe tbody tr th:only-of-type {\n",
              "        vertical-align: middle;\n",
              "    }\n",
              "\n",
              "    .dataframe tbody tr th {\n",
              "        vertical-align: top;\n",
              "    }\n",
              "\n",
              "    .dataframe thead th {\n",
              "        text-align: right;\n",
              "    }\n",
              "</style>\n",
              "<table border=\"1\" class=\"dataframe\">\n",
              "  <thead>\n",
              "    <tr style=\"text-align: right;\">\n",
              "      <th></th>\n",
              "      <th>0</th>\n",
              "      <th>1</th>\n",
              "      <th>2</th>\n",
              "      <th>3</th>\n",
              "      <th>4</th>\n",
              "      <th>5</th>\n",
              "      <th>6</th>\n",
              "      <th>7</th>\n",
              "      <th>8</th>\n",
              "      <th>9</th>\n",
              "      <th>10</th>\n",
              "      <th>11</th>\n",
              "    </tr>\n",
              "  </thead>\n",
              "  <tbody>\n",
              "    <tr>\n",
              "      <th>286</th>\n",
              "      <td>0.184094</td>\n",
              "      <td>0.548759</td>\n",
              "      <td>-1.173526</td>\n",
              "      <td>-0.696185</td>\n",
              "      <td>0.598087</td>\n",
              "      <td>-0.320513</td>\n",
              "      <td>-0.043294</td>\n",
              "      <td>-0.548811</td>\n",
              "      <td>-0.170041</td>\n",
              "      <td>0.269264</td>\n",
              "      <td>-1.647275</td>\n",
              "      <td>-1.231992</td>\n",
              "    </tr>\n",
              "    <tr>\n",
              "      <th>653</th>\n",
              "      <td>-0.782999</td>\n",
              "      <td>0.548759</td>\n",
              "      <td>-1.173526</td>\n",
              "      <td>-0.696185</td>\n",
              "      <td>-1.671999</td>\n",
              "      <td>-0.320513</td>\n",
              "      <td>-0.548917</td>\n",
              "      <td>-0.548811</td>\n",
              "      <td>-1.168490</td>\n",
              "      <td>0.269264</td>\n",
              "      <td>-1.647275</td>\n",
              "      <td>1.328911</td>\n",
              "    </tr>\n",
              "    <tr>\n",
              "      <th>257</th>\n",
              "      <td>-0.009325</td>\n",
              "      <td>-1.822294</td>\n",
              "      <td>-1.173526</td>\n",
              "      <td>-0.696185</td>\n",
              "      <td>0.598087</td>\n",
              "      <td>-0.320513</td>\n",
              "      <td>0.042843</td>\n",
              "      <td>-0.548811</td>\n",
              "      <td>-0.003633</td>\n",
              "      <td>2.189022</td>\n",
              "      <td>-1.647275</td>\n",
              "      <td>1.328911</td>\n",
              "    </tr>\n",
              "    <tr>\n",
              "      <th>336</th>\n",
              "      <td>0.559208</td>\n",
              "      <td>0.548759</td>\n",
              "      <td>-1.173526</td>\n",
              "      <td>2.471227</td>\n",
              "      <td>0.598087</td>\n",
              "      <td>-0.320513</td>\n",
              "      <td>0.688869</td>\n",
              "      <td>-0.548811</td>\n",
              "      <td>0.533993</td>\n",
              "      <td>0.269264</td>\n",
              "      <td>0.607063</td>\n",
              "      <td>-1.231992</td>\n",
              "    </tr>\n",
              "    <tr>\n",
              "      <th>318</th>\n",
              "      <td>0.418540</td>\n",
              "      <td>0.548759</td>\n",
              "      <td>-1.173526</td>\n",
              "      <td>-0.696185</td>\n",
              "      <td>0.598087</td>\n",
              "      <td>-0.320513</td>\n",
              "      <td>-0.459679</td>\n",
              "      <td>-0.548811</td>\n",
              "      <td>-0.605263</td>\n",
              "      <td>2.189022</td>\n",
              "      <td>0.607063</td>\n",
              "      <td>0.048460</td>\n",
              "    </tr>\n",
              "    <tr>\n",
              "      <th>...</th>\n",
              "      <td>...</td>\n",
              "      <td>...</td>\n",
              "      <td>...</td>\n",
              "      <td>...</td>\n",
              "      <td>...</td>\n",
              "      <td>...</td>\n",
              "      <td>...</td>\n",
              "      <td>...</td>\n",
              "      <td>...</td>\n",
              "      <td>...</td>\n",
              "      <td>...</td>\n",
              "      <td>...</td>\n",
              "    </tr>\n",
              "    <tr>\n",
              "      <th>15</th>\n",
              "      <td>-1.632868</td>\n",
              "      <td>0.548759</td>\n",
              "      <td>-1.173526</td>\n",
              "      <td>0.359619</td>\n",
              "      <td>-1.671999</td>\n",
              "      <td>-0.320513</td>\n",
              "      <td>-0.270867</td>\n",
              "      <td>-0.548811</td>\n",
              "      <td>-0.554060</td>\n",
              "      <td>-1.650494</td>\n",
              "      <td>0.607063</td>\n",
              "      <td>1.328911</td>\n",
              "    </tr>\n",
              "    <tr>\n",
              "      <th>375</th>\n",
              "      <td>0.840544</td>\n",
              "      <td>0.548759</td>\n",
              "      <td>-1.173526</td>\n",
              "      <td>-0.696185</td>\n",
              "      <td>0.598087</td>\n",
              "      <td>3.119996</td>\n",
              "      <td>0.904038</td>\n",
              "      <td>-0.548811</td>\n",
              "      <td>0.559594</td>\n",
              "      <td>0.269264</td>\n",
              "      <td>-1.647275</td>\n",
              "      <td>1.328911</td>\n",
              "    </tr>\n",
              "    <tr>\n",
              "      <th>234</th>\n",
              "      <td>-0.161715</td>\n",
              "      <td>0.548759</td>\n",
              "      <td>0.852133</td>\n",
              "      <td>2.471227</td>\n",
              "      <td>0.598087</td>\n",
              "      <td>-0.320513</td>\n",
              "      <td>-0.143902</td>\n",
              "      <td>0.088623</td>\n",
              "      <td>0.213977</td>\n",
              "      <td>0.269264</td>\n",
              "      <td>-1.647275</td>\n",
              "      <td>1.328911</td>\n",
              "    </tr>\n",
              "    <tr>\n",
              "      <th>642</th>\n",
              "      <td>-0.226188</td>\n",
              "      <td>-1.822294</td>\n",
              "      <td>-1.173526</td>\n",
              "      <td>-0.696185</td>\n",
              "      <td>-1.671999</td>\n",
              "      <td>-0.320513</td>\n",
              "      <td>-0.462436</td>\n",
              "      <td>0.139308</td>\n",
              "      <td>-0.157241</td>\n",
              "      <td>-1.954455</td>\n",
              "      <td>-1.647275</td>\n",
              "      <td>1.328911</td>\n",
              "    </tr>\n",
              "    <tr>\n",
              "      <th>271</th>\n",
              "      <td>0.084454</td>\n",
              "      <td>0.548759</td>\n",
              "      <td>0.852133</td>\n",
              "      <td>1.415423</td>\n",
              "      <td>-1.671999</td>\n",
              "      <td>-0.320513</td>\n",
              "      <td>0.430458</td>\n",
              "      <td>-0.548811</td>\n",
              "      <td>0.533993</td>\n",
              "      <td>0.269264</td>\n",
              "      <td>0.607063</td>\n",
              "      <td>-1.231992</td>\n",
              "    </tr>\n",
              "  </tbody>\n",
              "</table>\n",
              "<p>227 rows × 12 columns</p>\n",
              "</div>\n",
              "      <button class=\"colab-df-convert\" onclick=\"convertToInteractive('df-7cbb7eb0-b68d-4266-b667-813948c2612e')\"\n",
              "              title=\"Convert this dataframe to an interactive table.\"\n",
              "              style=\"display:none;\">\n",
              "        \n",
              "  <svg xmlns=\"http://www.w3.org/2000/svg\" height=\"24px\"viewBox=\"0 0 24 24\"\n",
              "       width=\"24px\">\n",
              "    <path d=\"M0 0h24v24H0V0z\" fill=\"none\"/>\n",
              "    <path d=\"M18.56 5.44l.94 2.06.94-2.06 2.06-.94-2.06-.94-.94-2.06-.94 2.06-2.06.94zm-11 1L8.5 8.5l.94-2.06 2.06-.94-2.06-.94L8.5 2.5l-.94 2.06-2.06.94zm10 10l.94 2.06.94-2.06 2.06-.94-2.06-.94-.94-2.06-.94 2.06-2.06.94z\"/><path d=\"M17.41 7.96l-1.37-1.37c-.4-.4-.92-.59-1.43-.59-.52 0-1.04.2-1.43.59L10.3 9.45l-7.72 7.72c-.78.78-.78 2.05 0 2.83L4 21.41c.39.39.9.59 1.41.59.51 0 1.02-.2 1.41-.59l7.78-7.78 2.81-2.81c.8-.78.8-2.07 0-2.86zM5.41 20L4 18.59l7.72-7.72 1.47 1.35L5.41 20z\"/>\n",
              "  </svg>\n",
              "      </button>\n",
              "      \n",
              "  <style>\n",
              "    .colab-df-container {\n",
              "      display:flex;\n",
              "      flex-wrap:wrap;\n",
              "      gap: 12px;\n",
              "    }\n",
              "\n",
              "    .colab-df-convert {\n",
              "      background-color: #E8F0FE;\n",
              "      border: none;\n",
              "      border-radius: 50%;\n",
              "      cursor: pointer;\n",
              "      display: none;\n",
              "      fill: #1967D2;\n",
              "      height: 32px;\n",
              "      padding: 0 0 0 0;\n",
              "      width: 32px;\n",
              "    }\n",
              "\n",
              "    .colab-df-convert:hover {\n",
              "      background-color: #E2EBFA;\n",
              "      box-shadow: 0px 1px 2px rgba(60, 64, 67, 0.3), 0px 1px 3px 1px rgba(60, 64, 67, 0.15);\n",
              "      fill: #174EA6;\n",
              "    }\n",
              "\n",
              "    [theme=dark] .colab-df-convert {\n",
              "      background-color: #3B4455;\n",
              "      fill: #D2E3FC;\n",
              "    }\n",
              "\n",
              "    [theme=dark] .colab-df-convert:hover {\n",
              "      background-color: #434B5C;\n",
              "      box-shadow: 0px 1px 3px 1px rgba(0, 0, 0, 0.15);\n",
              "      filter: drop-shadow(0px 1px 2px rgba(0, 0, 0, 0.3));\n",
              "      fill: #FFFFFF;\n",
              "    }\n",
              "  </style>\n",
              "\n",
              "      <script>\n",
              "        const buttonEl =\n",
              "          document.querySelector('#df-7cbb7eb0-b68d-4266-b667-813948c2612e button.colab-df-convert');\n",
              "        buttonEl.style.display =\n",
              "          google.colab.kernel.accessAllowed ? 'block' : 'none';\n",
              "\n",
              "        async function convertToInteractive(key) {\n",
              "          const element = document.querySelector('#df-7cbb7eb0-b68d-4266-b667-813948c2612e');\n",
              "          const dataTable =\n",
              "            await google.colab.kernel.invokeFunction('convertToInteractive',\n",
              "                                                     [key], {});\n",
              "          if (!dataTable) return;\n",
              "\n",
              "          const docLinkHtml = 'Like what you see? Visit the ' +\n",
              "            '<a target=\"_blank\" href=https://colab.research.google.com/notebooks/data_table.ipynb>data table notebook</a>'\n",
              "            + ' to learn more about interactive tables.';\n",
              "          element.innerHTML = '';\n",
              "          dataTable['output_type'] = 'display_data';\n",
              "          await google.colab.output.renderOutput(dataTable, element);\n",
              "          const docLink = document.createElement('div');\n",
              "          docLink.innerHTML = docLinkHtml;\n",
              "          element.appendChild(docLink);\n",
              "        }\n",
              "      </script>\n",
              "    </div>\n",
              "  </div>\n",
              "  "
            ]
          },
          "metadata": {},
          "execution_count": 80
        }
      ]
    },
    {
      "cell_type": "code",
      "source": [
        "y_train"
      ],
      "metadata": {
        "colab": {
          "base_uri": "https://localhost:8080/"
        },
        "id": "tVi0FwXBv9mk",
        "outputId": "e20f02b3-0b51-440e-bde2-3041b649261a"
      },
      "execution_count": 81,
      "outputs": [
        {
          "output_type": "execute_result",
          "data": {
            "text/plain": [
              "311    1\n",
              "382    1\n",
              "137    1\n",
              "346    1\n",
              "326    1\n",
              "      ..\n",
              "71     0\n",
              "106    1\n",
              "270    0\n",
              "435    1\n",
              "102    1\n",
              "Name: Loan_Status, Length: 460, dtype: int64"
            ]
          },
          "metadata": {},
          "execution_count": 81
        }
      ]
    },
    {
      "cell_type": "code",
      "source": [
        "y_test"
      ],
      "metadata": {
        "colab": {
          "base_uri": "https://localhost:8080/"
        },
        "id": "BRksXkXMv-_h",
        "outputId": "ceca9d5c-bfe2-4ffc-f12b-8b79109702a2"
      },
      "execution_count": 82,
      "outputs": [
        {
          "output_type": "execute_result",
          "data": {
            "text/plain": [
              "286    1\n",
              "653    0\n",
              "257    0\n",
              "336    1\n",
              "318    0\n",
              "      ..\n",
              "15     1\n",
              "375    0\n",
              "234    1\n",
              "642    0\n",
              "271    1\n",
              "Name: Loan_Status, Length: 227, dtype: int64"
            ]
          },
          "metadata": {},
          "execution_count": 82
        }
      ]
    }
  ]
}